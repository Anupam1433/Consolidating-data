{
 "cells": [
  {
   "cell_type": "code",
   "execution_count": 2,
   "id": "4e0e9a6e",
   "metadata": {},
   "outputs": [],
   "source": [
    "import pandas as pd"
   ]
  },
  {
   "cell_type": "code",
   "execution_count": 3,
   "id": "6d1e8005",
   "metadata": {},
   "outputs": [],
   "source": [
    "data1 = pd.read_csv('https://raw.githubusercontent.com/jamwine/Web-Scraping/main/WWIPL%20(Unlisted%20Shares)/data/wwipl.csv')\n",
    "data2 = pd.read_csv('https://raw.githubusercontent.com/Anupam1433/Unlisteddeal-data/main/data.csv')\n",
    "data3 = pd.read_csv('https://raw.githubusercontent.com/Anupam1433/rurashfin-unlisted-shares-list/main/data.csv')\n",
    "data4 = pd.read_csv('https://raw.githubusercontent.com/Anupam1433/buysellunlistedshares-data/main/Hot_Unlistedshares.csv')\n",
    "data5 = pd.read_csv('https://raw.githubusercontent.com/Anupam1433/unlistedsharebrokers-scrapping/main/unlistedsharebrokers_data.csv')"
   ]
  },
  {
   "cell_type": "code",
   "execution_count": 4,
   "id": "2cfd4d92",
   "metadata": {},
   "outputs": [
    {
     "data": {
      "text/plain": [
       "Index(['Title', 'Buy Price Rupeess', 'Sell Price Rupeess', 'Lot', 'Isin'], dtype='object')"
      ]
     },
     "execution_count": 4,
     "metadata": {},
     "output_type": "execute_result"
    }
   ],
   "source": [
    "data5.columns"
   ]
  },
  {
   "cell_type": "code",
   "execution_count": 5,
   "id": "3f1a982d",
   "metadata": {},
   "outputs": [],
   "source": [
    "data_mapping = {\n",
    "    'https://wwipl.com/' : {\n",
    "    'Script Name' : 'Company Name',\n",
    "    'Category' : 'Category',\n",
    "    'Sector' : 'Sector',\n",
    "    'Price (in rupees)' : 'Share Price',\n",
    "    'Market Cap (in crores)' : 'Market Cap (in crores)' \n",
    "    },\n",
    "    'https://www.unlisteddeal.com/unlisted-share/' : { \n",
    "        'Company Name' : 'Company Name',\n",
    "        'Price' : 'Share Price',\n",
    "        'Lot Size' : 'Lot Size'\n",
    "    },\n",
    "    'https://rurashfin.com/unlisted-shares-list/' : {\n",
    "        'Company Name' : 'Company Name',\n",
    "        'Industry' : 'Sector',\n",
    "        'LTP' : 'Share Price',\n",
    "        'Min. Qty.' : 'Min. Qty.'\n",
    "    },\n",
    "    'https://buysellunlistedshares.com/' : {\n",
    "        'Company Name' : 'Company Name',\n",
    "        'Share Price' : 'Share Price',\n",
    "        'Sector' : 'Sector',\n",
    "        'ISIN' : 'ISIN',\n",
    "        'Special Comment' : 'Special Comment'        \n",
    "    },\n",
    "    'https://www.unlistedsharebrokers.com/' : {\n",
    "        'Title' : 'Company Name',\n",
    "        'Buy Price Rupeess' : 'Share Price',\n",
    "        'Sell Price Rupeess' : 'Sell Price Rupeess',\n",
    "        'Lot' : 'Lot Size',\n",
    "        'Isin' : 'ISIN'\n",
    "    }\n",
    "    \n",
    "}\n",
    "\n",
    "\n"
   ]
  },
  {
   "cell_type": "code",
   "execution_count": 6,
   "id": "2b7494b0",
   "metadata": {},
   "outputs": [],
   "source": [
    "# List of DataFrames\n",
    "dfs = [data1, data2, data3, data4, data5]\n",
    "\n",
    "# Add a 'source' column \n",
    "for df in dfs:\n",
    "    for source_url, column_mapping_source in data_mapping.items():\n",
    "        if all(column in df.columns for column in column_mapping_source.keys()):\n",
    "            df['Source'] = source_url\n",
    "            df.rename(columns=column_mapping_source, inplace=True)\n",
    "            break\n",
    "\n",
    "# Concatenate the DataFrames with outer join\n",
    "combined_data = pd.concat(dfs, ignore_index=True, join='outer')\n",
    "\n",
    "# Optionally, you can reset the index if needed\n",
    "combined_data.reset_index(drop=True, inplace=True)"
   ]
  },
  {
   "cell_type": "code",
   "execution_count": 7,
   "id": "7fb9055b",
   "metadata": {},
   "outputs": [
    {
     "data": {
      "text/plain": [
       "Index(['Company Name', 'Category', 'Sector', 'Share Price',\n",
       "       'Market Cap (in crores)', 'Source', 'Lot Size', 'Min. Qty.', 'ISIN',\n",
       "       'Special Comment', 'Sell Price Rupeess'],\n",
       "      dtype='object')"
      ]
     },
     "execution_count": 7,
     "metadata": {},
     "output_type": "execute_result"
    }
   ],
   "source": [
    "combined_data.columns"
   ]
  },
  {
   "cell_type": "code",
   "execution_count": 8,
   "id": "4e3d905c",
   "metadata": {},
   "outputs": [],
   "source": [
    "# Save the concatenated DataFrame to a new CSV file\n",
    "combined_data.to_csv('Main_dataset.csv', index=False)"
   ]
  },
  {
   "cell_type": "code",
   "execution_count": null,
   "id": "3dbefdc4",
   "metadata": {},
   "outputs": [],
   "source": []
  }
 ],
 "metadata": {
  "kernelspec": {
   "display_name": "Python 3 (ipykernel)",
   "language": "python",
   "name": "python3"
  },
  "language_info": {
   "codemirror_mode": {
    "name": "ipython",
    "version": 3
   },
   "file_extension": ".py",
   "mimetype": "text/x-python",
   "name": "python",
   "nbconvert_exporter": "python",
   "pygments_lexer": "ipython3",
   "version": "3.10.4"
  }
 },
 "nbformat": 4,
 "nbformat_minor": 5
}
